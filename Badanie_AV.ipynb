{
 "cells": [
  {
   "cell_type": "code",
   "execution_count": 1,
   "metadata": {
    "collapsed": true
   },
   "outputs": [],
   "source": [
    "import numpy as np\n",
    "import pandas as pd\n",
    "import os\n",
    "import glob\n",
    "from scipy import stats\n",
    "import matplotlib.pyplot as plt"
   ]
  },
  {
   "cell_type": "code",
   "execution_count": 2,
   "metadata": {
    "collapsed": true
   },
   "outputs": [],
   "source": [
    "import seaborn as sns\n",
    "%matplotlib inline"
   ]
  },
  {
   "cell_type": "code",
   "execution_count": 3,
   "metadata": {
    "collapsed": true,
    "scrolled": true
   },
   "outputs": [],
   "source": [
    "df = pd.read_excel(r'D:\\Google Drive\\DJ\\Badania motywów\\Badanie 3\\FULL_BASE.xlsx')\n",
    "#df = pd.read_excel(r'C:\\Users\\leont\\Google Drive\\DJ\\Badania motywów\\Badanie 3\\FULL_BASE.xlsx')"
   ]
  },
  {
   "cell_type": "code",
   "execution_count": 4,
   "metadata": {
    "scrolled": true
   },
   "outputs": []
     },
     "execution_count": 4,
     "metadata": {},
     "output_type": "execute_result"
    }
   ],
   "source": [
    "df.columns"
   ]
  },
  {
   "cell_type": "code",
   "execution_count": 5,
   "metadata": {
    "collapsed": true
   },
   "outputs": [],
   "source": [
    "df['nightmares'] = df['nightmares'].map({1: \"no nightmares\", 2: \"nightmares\"})\n",
    "\n",
    "df['place_general'] = df['place']\n",
    "df['place_general'] = df['place_general'].map({1: \"on the mobile, in bed (8 persons)\", \n",
    "                               2: \"on the mobile, while sitting (13 persons)\", \n",
    "                               3: \"on the mobile, while sitting (13 persons)\", \n",
    "                               4: \"on a computer (30 persons)\", \n",
    "                               5: \"on a computer (30 persons)\"})\n",
    "\n",
    "df['place'] = df['place'].map({1: \"on the mobile, in bed\", \n",
    "                               2: \"on the mobile, while sitting, in a public place (e.g. a restaurant)\", \n",
    "                               3: \"on the mobile, while sitting, in a private place (e.g. your home)\", \n",
    "                               4: \"on a computer, in a public place\", \n",
    "                               5: \"on a computer, in a private place\"})\n",
    "\n",
    "df['Gender'] = df['Gender'].map({1: \"Female\", 2: \"Male\"})\n"
   ]
  },
  {
   "cell_type": "markdown",
   "metadata": {},
   "source": [
    "# Videos & relax/sleepiness"
   ]
  },
  {
   "cell_type": "code",
   "execution_count": null,
   "metadata": {},
   "outputs": [],
   "source": [
    "sns.swarmplot(x='age', data=df, color=\"w\", alpha=.7)\n",
    "sns.violinplot(x='age', data=df, inner=None, palette='Set2')\n",
    "\n",
    "# plt.savefig(\"output_age.png\", dpi=400)"
   ]
  },
  {
   "cell_type": "markdown",
   "metadata": {},
   "source": [
    "---------------\n",
    "### Stripplot with means and standard errors"
   ]
  },
  {
   "cell_type": "code",
   "execution_count": null,
   "metadata": {
    "collapsed": true,
    "scrolled": true
   },
   "outputs": [],
   "source": [
    "def plotting(plt1, axis, colors=('seagreen', 'crimson')):\n",
    "    \n",
    "    plot1 = sns.stripplot(y=plt1, x=[\"\"]*len(df), hue='nightmares', data=df, palette=colors, \n",
    "                          hue_order=('no nightmares', 'nightmares'), jitter=True, split=True, ax=axis)\n",
    "# boxplot can be changed to violinplot, just add split=True\n",
    "#     plot1 = sns.boxplot(y=plt1, x=[\"\"]*len(df), data=df, hue='nightmares', palette=('#39ad48', '#cb0162'),\n",
    "#                            hue_order=('no nightmares', 'nightmares'), ax=axis)\n",
    "\n",
    "    is_nightmare = df.nightmares == 'nightmares'\n",
    "    ngtm = df.loc[is_nightmare, plt1]\n",
    "    nongtm = df.loc[~is_nightmare, plt1]\n",
    "    \n",
    "#     nongtm_m, nongtm_std = nongtm.mean(), nongtm.std()\n",
    "    nongtm_m, nongtm_std = nongtm.mean(), stats.sem(nongtm)\n",
    "    cnt = [-0.2, 0.2]\n",
    "    wdth = 0.08\n",
    "    axis.plot([cnt[0] - wdth, cnt[0] + wdth], [nongtm_m, nongtm_m], color=colors[0], lw=3)\n",
    "    axis.fill_between([cnt[0] - wdth, cnt[0] + wdth], [nongtm_m - nongtm_std, nongtm_m - nongtm_std],\n",
    "                      [nongtm_m + nongtm_std, nongtm_m + nongtm_std], color=colors[0], alpha=0.3)\n",
    "\n",
    "#     ngtm_m, ngtm_std = ngtm.mean(), ngtm.std()\n",
    "    ngtm_m, ngtm_std = ngtm.mean(), stats.sem(ngtm)\n",
    "    axis.plot([cnt[1] - wdth, cnt[1] + wdth], [ngtm_m, ngtm_m], color=colors[1], lw=3)\n",
    "    axis.fill_between([cnt[1] - wdth, cnt[1] + wdth], [ngtm_m - ngtm_std, ngtm_m - ngtm_std],\n",
    "                      [ngtm_m + ngtm_std, ngtm_m + ngtm_std], color=colors[1], alpha=0.3)\n",
    "    axis.set_ylim(0, 8)\n",
    "    axis.set_xlim(cnt[0] - 2 * wdth, cnt[1] + 2 * wdth)\n",
    "\n",
    "    axis.set_yticks([1,2,3,4,5,6,7])\n",
    "\n",
    "#     handles, labels = plot1.get_legend_handles_labels()\n",
    "#     plot1.legend(handles[:2], labels[:2], loc='best')\n",
    "    \n",
    "    axis.legend_.remove()\n",
    "\n",
    "    axis.set_xlabel(plt1, fontsize=15)\n",
    "    axis.set_ylabel(\"\")"
   ]
  },
  {
   "cell_type": "code",
   "execution_count": null,
   "metadata": {},
   "outputs": [],
   "source": [
    "fig, ax = plt.subplots(ncols=4, nrows=2, figsize=(20, 8))\n",
    "plotting('meadow', ax[0, 0])\n",
    "plotting('starry night', ax[0, 1])\n",
    "plotting('waterfall', ax[0, 2])\n",
    "plotting('lake', ax[0, 3])\n",
    "plotting('aurora', ax[1, 0])\n",
    "plotting('reflection', ax[1, 1])\n",
    "plotting('blossom', ax[1, 2])\n",
    "plotting('rain', ax[1, 3])\n",
    "\n",
    "ax[0, 0].set_ylabel('Does this video make you \\n feel relaxed or sleepy?', fontsize=15)\n",
    "ax[1, 0].set_ylabel('Does this video make you \\n feel relaxed or sleepy?', fontsize=15)\n",
    "\n",
    "handles, labels = ax[0, 0].get_legend_handles_labels()\n",
    "ax[0, 0].legend(handles[:2], labels[:2], loc='best')\n",
    "\n",
    "# plt.savefig(\"output_stripplot_relax.png\", dpi=400)"
   ]
  },
  {
   "cell_type": "markdown",
   "metadata": {},
   "source": [
    "-----------------\n",
    "### Pointplots - relax/sleepiness"
   ]
  },
  {
   "cell_type": "code",
   "execution_count": 6,
   "metadata": {
    "collapsed": true
   },
   "outputs": [],
   "source": [
    "df2 = pd.melt(df, id_vars=[\"nightmares\", \"place\", \"place_general\", \"Gender\"],\n",
    "              value_vars=['meadow', 'starry night', 'waterfall', 'lake', 'aurora',\n",
    "                          'reflection', 'rain', 'blossom'])"
   ]
  },
  {
   "cell_type": "code",
   "execution_count": null,
   "metadata": {},
   "outputs": [],
   "source": [
    "axis = sns.pointplot(x='variable', y='value', hue='nightmares', data=df2, dodge=True, \n",
    "                     palette=('seagreen', 'crimson'), hue_order=('no nightmares', 'nightmares'))\n",
    "axis.set_xticklabels(['meadow', 'starry\\nnight', 'waterfall', 'lake', 'aurora',\n",
    "                          'reflection', 'blossom', 'rain'], rotation=25) \n",
    "axis.set_xlabel(\"\")\n",
    "axis.set_ylabel(\"Does this video make you \\n feel relaxed or sleepy?\", fontsize=12)\n",
    "axis.set_ylim(bottom=1, top=7)\n",
    "handles, labels = axis.get_legend_handles_labels()\n",
    "axis.legend(handles[:2], labels[:2], loc='best')\n",
    "\n",
    "# plt.savefig(\"output_pointplot_relax.png\", dpi=400)"
   ]
  },
  {
   "cell_type": "code",
   "execution_count": null,
   "metadata": {},
   "outputs": [],
   "source": [
    "axis = sns.pointplot(x='variable', y='value', hue='place_general', data=df2, dodge=True, palette=\"Set2\")\n",
    "axis.set_xticklabels(['meadow', 'starry\\nnight', 'waterfall', 'lake', 'aurora',\n",
    "                          'reflection', 'blossom', 'rain'], rotation=25) \n",
    "axis.set_xlabel(\"\")\n",
    "axis.set_ylabel(\"Does this video make you \\n feel relaxed or sleepy?\", fontsize=12)\n",
    "axis.set_ylim(bottom=1, top=7)\n",
    "handles, labels = axis.get_legend_handles_labels()\n",
    "axis.legend(handles[:3], labels[:3], loc='best')\n",
    "\n",
    "# plt.savefig(\"output_pointplot_relax_place.png\", dpi=400)"
   ]
  },
  {
   "cell_type": "markdown",
   "metadata": {},
   "source": [
    "-----------------\n",
    "### Pointplots - exp"
   ]
  },
  {
   "cell_type": "code",
   "execution_count": 7,
   "metadata": {
    "collapsed": true
   },
   "outputs": [],
   "source": [
    "df3 = pd.melt(df, id_vars=[\"nightmares\", \"place\", \"place_general\", \"Gender\"],\n",
    "              value_vars=['meadow_exp', 'starry night_exp', 'waterfall_exp', 'lake_exp', 'aurora_exp',\n",
    "                          'reflection_exp', 'rain_exp', 'blossom_exp'])"
   ]
  },
  {
   "cell_type": "code",
   "execution_count": 12,
   "metadata": {},
   "outputs": [],
   "source": [
    "fig, ax = plt.subplots(ncols=2, nrows=1, figsize=(13, 5))\n",
    "\n",
    "# sns.set_context(\"notebook\", font_scale=1.3)\n",
    "\n",
    "axis = sns.pointplot(x='variable', y='value', hue='nightmares', data=df3, dodge=True, ax=ax[0],\n",
    "                     palette=('seagreen', 'crimson'), hue_order=('no nightmares', 'nightmares'))\n",
    "axis.set_xticklabels(['meadow', 'starry\\nnight', 'waterfall', 'lake', 'aurora',\n",
    "                          'reflection', 'blossom', 'rain'], rotation=25) \n",
    "axis.set_xlabel(\"\")\n",
    "axis.set_ylabel(\"Is this video related to your EXPERIENCE?\", fontsize=12)\n",
    "axis.set_ylim(bottom=1, top=7)\n",
    "handles, labels = axis.get_legend_handles_labels()\n",
    "axis.legend(handles[:2], labels[:2], loc='lower left')\n",
    "\n",
    "\n",
    "axis = sns.pointplot(x='variable', y='value', hue='place_general', data=df3, dodge=True, ax=ax[1],\n",
    "                     palette=\"Set2\")\n",
    "axis.set_xticklabels(['meadow', 'starry\\nnight', 'waterfall', 'lake', 'aurora',\n",
    "                          'reflection', 'blossom', 'rain'], rotation=25) \n",
    "axis.set_xlabel(\"\")\n",
    "axis.set_ylabel(\"\")\n",
    "axis.set_ylim(bottom=1, top=7)\n",
    "handles, labels = axis.get_legend_handles_labels()\n",
    "axis.legend(handles[:3], labels[:3], loc='best')\n",
    "\n",
    "\n",
    "# plt.savefig(\"output_exp.png\", dpi=400)"
   ]
  },
  {
   "cell_type": "code",
   "execution_count": null,
   "metadata": {},
   "outputs": [],
   "source": [
    "axis = sns.pointplot(x='variable', y='value', hue='nightmares', data=df3, dodge=True, \n",
    "                     palette=('seagreen', 'crimson'), hue_order=('no nightmares', 'nightmares'))\n",
    "axis.set_xticklabels(['meadow', 'starry\\nnight', 'waterfall', 'lake', 'aurora',\n",
    "                          'reflection', 'blossom', 'rain'], rotation=25) \n",
    "axis.set_xlabel(\"\")\n",
    "axis.set_ylabel(\"Is this video related to your EXPERIENCE?\", fontsize=12)\n",
    "axis.set_ylim(bottom=1, top=7)\n",
    "handles, labels = axis.get_legend_handles_labels()\n",
    "axis.legend(handles[:2], labels[:2], loc='best')\n",
    "\n",
    "# plt.savefig(\"output_pointplot_exp.png\", dpi=400)"
   ]
  },
  {
   "cell_type": "code",
   "execution_count": null,
   "metadata": {},
   "outputs": [],
   "source": [
    "axis = sns.pointplot(x='variable', y='value', hue='place_general', data=df3, dodge=True, palette=\"Set2\")\n",
    "axis.set_xticklabels(['meadow', 'starry\\nnight', 'waterfall', 'lake', 'aurora',\n",
    "                          'reflection', 'blossom', 'rain'], rotation=25) \n",
    "axis.set_xlabel(\"\")\n",
    "axis.set_ylabel(\"Is this video related to your EXPERIENCE?\", fontsize=12)\n",
    "axis.set_ylim(bottom=1, top=7)\n",
    "handles, labels = axis.get_legend_handles_labels()\n",
    "axis.legend(handles[:3], labels[:3], loc='best')\n",
    "\n",
    "# plt.savefig(\"output_pointplot_exp_place.png\", dpi=400)"
   ]
  },
  {
   "cell_type": "markdown",
   "metadata": {},
   "source": [
    "-----------------\n",
    "### Pointplots - music"
   ]
  },
  {
   "cell_type": "code",
   "execution_count": 13,
   "metadata": {
    "collapsed": true
   },
   "outputs": [],
   "source": [
    "df4 = pd.melt(df, id_vars=[\"nightmares\", \"place\", \"place_general\", \"Gender\"],\n",
    "              value_vars=['meadow_music', 'starry night_music', 'waterfall_music', 'lake_music', 'aurora_music',\n",
    "                          'reflection_music', 'rain_music', 'blossom_music'])"
   ]
  },
  {
   "cell_type": "code",
   "execution_count": 15,
   "metadata": {},
   "outputs": [],
   "source": [
    "fig, ax = plt.subplots(ncols=2, nrows=1, figsize=(13, 5))\n",
    "\n",
    "# sns.set_context(\"notebook\", font_scale=1.3)\n",
    "\n",
    "axis = sns.pointplot(x='variable', y='value', hue='nightmares', data=df4, dodge=True, ax=ax[0],\n",
    "                     palette=('seagreen', 'crimson'), hue_order=('no nightmares', 'nightmares'))\n",
    "axis.set_xticklabels(['meadow', 'starry\\nnight', 'waterfall', 'lake', 'aurora',\n",
    "                          'reflection', 'blossom', 'rain'], rotation=25) \n",
    "axis.set_xlabel(\"\")\n",
    "axis.set_ylabel(\"Does the MUSIC in the video make you feel relaxed?\", fontsize=12)\n",
    "axis.set_ylim(bottom=1, top=7)\n",
    "handles, labels = axis.get_legend_handles_labels()\n",
    "axis.legend(handles[:2], labels[:2], loc='lower left')\n",
    "\n",
    "axis = sns.pointplot(x='variable', y='value', hue='place_general', data=df4, dodge=True, ax=ax[1],\n",
    "                     palette=\"Set2\")\n",
    "axis.set_xticklabels(['meadow', 'starry\\nnight', 'waterfall', 'lake', 'aurora',\n",
    "                          'reflection', 'blossom', 'rain'], rotation=25) \n",
    "axis.set_xlabel(\"\")\n",
    "axis.set_ylabel(\"\")\n",
    "axis.set_ylim(bottom=1, top=7)\n",
    "handles, labels = axis.get_legend_handles_labels()\n",
    "axis.legend(handles[:3], labels[:3], loc='best')\n",
    "\n",
    "# plt.savefig(\"output_music.png\", dpi=400)"
   ]
  },
  {
   "cell_type": "code",
   "execution_count": null,
   "metadata": {},
   "outputs": [],
   "source": [
    "axis = sns.pointplot(x='variable', y='value', hue='nightmares', data=df4, dodge=True, \n",
    "                     palette=('seagreen', 'crimson'), hue_order=('no nightmares', 'nightmares'))\n",
    "axis.set_xticklabels(['meadow', 'starry\\nnight', 'waterfall', 'lake', 'aurora',\n",
    "                          'reflection', 'blossom', 'rain'], rotation=25) \n",
    "axis.set_xlabel(\"\")\n",
    "axis.set_ylabel(\"Does the MUSIC in the video make you feel relaxed?\", fontsize=12)\n",
    "axis.set_ylim(bottom=1, top=7)\n",
    "handles, labels = axis.get_legend_handles_labels()\n",
    "axis.legend(handles[:2], labels[:2], loc='best')\n",
    "\n",
    "# plt.savefig(\"output_pointplot_music.png\", dpi=400)"
   ]
  },
  {
   "cell_type": "code",
   "execution_count": null,
   "metadata": {},
   "outputs": [],
   "source": [
    "axis = sns.pointplot(x='variable', y='value', hue='place_general', data=df4, dodge=True, palette=\"Set2\")\n",
    "axis.set_xticklabels(['meadow', 'starry\\nnight', 'waterfall', 'lake', 'aurora',\n",
    "                          'reflection', 'blossom', 'rain'], rotation=25) \n",
    "axis.set_xlabel(\"\")\n",
    "axis.set_ylabel(\"Does the MUSIC in the video make you feel relaxed?\", fontsize=12)\n",
    "axis.set_ylim(bottom=1, top=7)\n",
    "handles, labels = axis.get_legend_handles_labels()\n",
    "axis.legend(handles[:3], labels[:3], loc='best')\n",
    "\n",
    "# plt.savefig(\"output_pointplot_music_place.png\", dpi=400)"
   ]
  },
  {
   "cell_type": "markdown",
   "metadata": {},
   "source": [
    "-----------------\n",
    "### Pointplots - motion"
   ]
  },
  {
   "cell_type": "code",
   "execution_count": 16,
   "metadata": {
    "collapsed": true
   },
   "outputs": [],
   "source": [
    "df5 = pd.melt(df, id_vars=[\"nightmares\", \"place\", \"place_general\", \"Gender\"],\n",
    "              value_vars=['meadow_motion', 'starry night_motion', 'waterfall_motion', 'lake_motion', 'aurora_motion',\n",
    "                          'reflection_motion', 'rain_motion', 'blossom_motion'])"
   ]
  },
  {
   "cell_type": "code",
   "execution_count": 18,
   "metadata": {},
   "outputs": [],
   "source": [
    "fig, ax = plt.subplots(ncols=2, nrows=1, figsize=(13, 5))\n",
    "\n",
    "# sns.set_context(\"notebook\", font_scale=1.3)\n",
    "\n",
    "axis = sns.pointplot(x='variable', y='value', hue='nightmares', data=df5, dodge=True, ax=ax[0],\n",
    "                     palette=('seagreen', 'crimson'), hue_order=('no nightmares', 'nightmares'))\n",
    "axis.set_xticklabels(['meadow', 'starry\\nnight', 'waterfall', 'lake', 'aurora',\n",
    "                          'reflection', 'blossom', 'rain'], rotation=25) \n",
    "axis.set_xlabel(\"\")\n",
    "axis.set_ylabel(\"Does MOTION in the video make you feel relaxed?\", fontsize=12)\n",
    "axis.set_ylim(bottom=1, top=7)\n",
    "handles, labels = axis.get_legend_handles_labels()\n",
    "axis.legend(handles[:2], labels[:2], loc='lower left')\n",
    "\n",
    "axis = sns.pointplot(x='variable', y='value', hue='place_general', data=df5, dodge=True, ax=ax[1],\n",
    "                     palette=\"Set2\")\n",
    "axis.set_xticklabels(['meadow', 'starry\\nnight', 'waterfall', 'lake', 'aurora',\n",
    "                          'reflection', 'blossom', 'rain'], rotation=25) \n",
    "axis.set_xlabel(\"\")\n",
    "axis.set_ylabel(\"\")\n",
    "axis.set_ylim(bottom=1, top=7)\n",
    "handles, labels = axis.get_legend_handles_labels()\n",
    "axis.legend(handles[:3], labels[:3], loc='best')\n",
    "\n",
    "# plt.savefig(\"output_motion.png\", dpi=400)"
   ]
  },
  {
   "cell_type": "code",
   "execution_count": null,
   "metadata": {},
   "outputs": [],
   "source": [
    "axis = sns.pointplot(x='variable', y='value', hue='nightmares', data=df5, dodge=True, \n",
    "                     palette=('seagreen', 'crimson'), hue_order=('no nightmares', 'nightmares'))\n",
    "axis.set_xticklabels(['meadow', 'starry\\nnight', 'waterfall', 'lake', 'aurora',\n",
    "                          'reflection', 'blossom', 'rain'], rotation=25) \n",
    "axis.set_xlabel(\"\")\n",
    "axis.set_ylabel(\"Does MOTION in the video make you feel relaxed?\", fontsize=12)\n",
    "axis.set_ylim(bottom=1, top=7)\n",
    "handles, labels = axis.get_legend_handles_labels()\n",
    "axis.legend(handles[:2], labels[:2], loc='best')\n",
    "\n",
    "# plt.savefig(\"output_pointplot_motion.png\", dpi=400)"
   ]
  },
  {
   "cell_type": "code",
   "execution_count": null,
   "metadata": {},
   "outputs": [],
   "source": [
    "axis = sns.pointplot(x='variable', y='value', hue='place_general', data=df5, dodge=True, palette=\"Set2\")\n",
    "axis.set_xticklabels(['meadow', 'starry\\nnight', 'waterfall', 'lake', 'aurora',\n",
    "                          'reflection', 'blossom', 'rain'], rotation=25) \n",
    "axis.set_xlabel(\"\")\n",
    "axis.set_ylabel(\"Does MOTION in the video make you feel relaxed?\", fontsize=12)\n",
    "axis.set_ylim(bottom=1, top=7)\n",
    "handles, labels = axis.get_legend_handles_labels()\n",
    "axis.legend(handles[:3], labels[:3], loc='best')\n",
    "\n",
    "# plt.savefig(\"output_pointplot_motion_place.png\", dpi=400)"
   ]
  },
  {
   "cell_type": "markdown",
   "metadata": {},
   "source": [
    "# Analizy statystyczne"
   ]
  },
  {
   "cell_type": "code",
   "execution_count": 19,
   "metadata": {},
   "outputs": [],
   "source": [
    "from statsmodels.formula.api import ols"
   ]
  },
  {
   "cell_type": "code",
   "execution_count": 21,
   "metadata": {},
   "outputs": [],
   "source": [
    "dff = df2"
   ]
  },
  {
   "cell_type": "code",
   "execution_count": 22,
   "metadata": {
    "collapsed": true
   },
   "outputs": [],
   "source": [
    "dff = dff.rename(columns={'variable': 'video', 'value': 'relax'})\n",
    "dff['exp'] = df3.value\n",
    "dff['music'] = df4.value\n",
    "dff['motion'] = df5.value"
   ]
  },
  {
   "cell_type": "code",
   "execution_count": 23,
   "metadata": {},
   "outputs": [],
   "source": [
    "model = ols('relax ~ exp + music + motion', dff).fit()\n",
    "print(model.summary()) "
   ]
  },
  {
   "cell_type": "code",
   "execution_count": 25,
   "metadata": {},
   "outputs": [],
   "source": [
    "fig, ax = plt.subplots(ncols=2, nrows=3, figsize=(12, 20))\n",
    "\n",
    "plt1 = sns.regplot(y='relax', x='exp', x_jitter=True, y_jitter=True, data=dff, ax=ax[0, 0], color=\"green\") \n",
    "plt2 = sns.regplot(y='relax', x='exp', x_estimator=np.mean, data=dff, ax=ax[0, 1], color=\"green\") \n",
    "\n",
    "plt3 = sns.regplot(y='relax', x='music', x_jitter=True, y_jitter=True, data=dff, ax=ax[1, 0], color=\"crimson\") \n",
    "plt4 = sns.regplot(y='relax', x='music', x_estimator=np.mean, data=dff, ax=ax[1, 1], color=\"crimson\") \n",
    "\n",
    "plt5 = sns.regplot(y='relax', x='motion', x_jitter=True, y_jitter=True, data=dff, ax=ax[2, 0], color=\"purple\") \n",
    "plt6 = sns.regplot(y='relax', x='motion', x_estimator=np.mean, data=dff, ax=ax[2, 1], color=\"purple\") \n",
    "\n",
    "x = range(1, 8)\n",
    "\n",
    "plt1.set_yticks(x)\n",
    "plt1.set_xticks(x)\n",
    "plt2.set_yticks(x)\n",
    "plt3.set_xticks(x)\n",
    "plt3.set_yticks(x)\n",
    "plt4.set_yticks(x)\n",
    "plt5.set_xticks(x)\n",
    "plt5.set_yticks(x)\n",
    "plt6.set_yticks(x)\n",
    "\n",
    "ax[0, 0].set_xlabel('experience', fontsize=18)\n",
    "ax[0, 1].set_xlabel('experience', fontsize=18)\n",
    "ax[1, 0].set_xlabel('music', fontsize=18)\n",
    "ax[1, 1].set_xlabel('music', fontsize=18)\n",
    "ax[2, 0].set_xlabel('motion', fontsize=18)\n",
    "ax[2, 1].set_xlabel('motion', fontsize=18)\n",
    "ax[0, 0].set_ylabel('relax', fontsize=18)\n",
    "ax[0, 1].set_ylabel('relax', fontsize=18)\n",
    "ax[1, 0].set_ylabel('relax', fontsize=18)\n",
    "ax[1, 1].set_ylabel('relax', fontsize=18)\n",
    "ax[2, 0].set_ylabel('relax', fontsize=18)\n",
    "ax[2, 1].set_ylabel('relax', fontsize=18)\n",
    "\n",
    "# plt.savefig(\"output_regressions.png\", dpi=400)"
   ]
  },
  {
   "cell_type": "markdown",
   "metadata": {},
   "source": [
    "### T tests"
   ]
  },
  {
   "cell_type": "code",
   "execution_count": null,
   "metadata": {},
   "outputs": [],
   "source": [
    "print(\"Test t między grupami:\", \n",
    "    stats.ttest_ind(df[df['Q4_SQ001'] == 'nightmares']['waterfall'], \n",
    "                df[df['Q4_SQ001'] == 'no nightmares']['waterfall']))\n",
    "\n",
    "print(\"Test równości wariancji:\", \n",
    "    stats.levene(df[df['Q4_SQ001'] == 'nightmares']['waterfall'], \n",
    "                df[df['Q4_SQ001'] == 'no nightmares']['waterfall']))\n",
    "\n",
    "print(\"Test z powtarzanym pomiarem:\", (stats.ttest_rel(df['waterfall'], df['meadow'])))"
   ]
  }
 ],
 "metadata": {
  "kernelspec": {
   "display_name": "Python 3",
   "language": "python",
   "name": "python3"
  },
  "language_info": {
   "codemirror_mode": {
    "name": "ipython",
    "version": 3
   },
   "file_extension": ".py",
   "mimetype": "text/x-python",
   "name": "python",
   "nbconvert_exporter": "python",
   "pygments_lexer": "ipython3",
   "version": "3.6.1"
  }
 },
 "nbformat": 4,
 "nbformat_minor": 2
}
